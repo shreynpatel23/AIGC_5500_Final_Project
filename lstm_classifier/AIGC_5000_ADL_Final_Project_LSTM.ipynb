{
  "cells": [
    {
      "cell_type": "code",
      "execution_count": 1,
      "metadata": {
        "colab": {
          "base_uri": "https://localhost:8080/"
        },
        "id": "DqZhdPaf2zPm",
        "outputId": "91b5304f-e0f2-44f5-b307-3696ee074d5f"
      },
      "outputs": [
        {
          "name": "stdout",
          "output_type": "stream",
          "text": [
            "Mounted at /content/drive\n"
          ]
        }
      ],
      "source": [
        "from google.colab import drive\n",
        "drive.mount('/content/drive')"
      ]
    },
    {
      "cell_type": "markdown",
      "metadata": {
        "id": "ixnCR1yThJHN"
      },
      "source": [
        "### Utils file for pre processing text and prepare dataset"
      ]
    },
    {
      "cell_type": "code",
      "execution_count": null,
      "metadata": {
        "colab": {
          "base_uri": "https://localhost:8080/"
        },
        "id": "CvUBGii72dYE",
        "outputId": "77b511ec-034f-4348-ecf9-a5212dfa3e66"
      },
      "outputs": [
        {
          "name": "stderr",
          "output_type": "stream",
          "text": [
            "[nltk_data] Downloading package wordnet to /root/nltk_data...\n",
            "[nltk_data] Downloading package punkt_tab to /root/nltk_data...\n",
            "[nltk_data]   Unzipping tokenizers/punkt_tab.zip.\n",
            "[nltk_data] Downloading package stopwords to /root/nltk_data...\n",
            "[nltk_data]   Unzipping corpora/stopwords.zip.\n",
            "[nltk_data] Downloading package omw-1.4 to /root/nltk_data...\n"
          ]
        }
      ],
      "source": [
        "import os, re\n",
        "import numpy as np\n",
        "import pandas as pd\n",
        "\n",
        "import warnings\n",
        "warnings.filterwarnings('ignore')\n",
        "import nltk\n",
        "from nltk.tokenize import word_tokenize\n",
        "from nltk.corpus import stopwords\n",
        "from nltk.stem import WordNetLemmatizer\n",
        "nltk.download('wordnet')\n",
        "nltk.download('punkt_tab')\n",
        "nltk.download('stopwords')\n",
        "nltk.download('omw-1.4')\n",
        "\n",
        "def normalize_text(text):\n",
        "    # convert to lower case\n",
        "    text = text.lower()\n",
        "\n",
        "    # replace contractions with full words\n",
        "    text = re.sub(r\"won't\", \"will not\", text)\n",
        "    text = re.sub(r\"can\\'t\", \"can not\", text)\n",
        "    text = re.sub(r\"n\\'t\", \" not\", text)\n",
        "    text = re.sub(r\"\\'re\", \" are\", text)\n",
        "    text = re.sub(r\"\\'s\", \" is\", text)\n",
        "    text = re.sub(r\"\\'d\", \" would\", text)\n",
        "    text = re.sub(r\"\\'ll\", \" will\", text)\n",
        "    text = re.sub(r\"\\'t\", \" not\", text)\n",
        "    text = re.sub(r\"\\'ve\", \" have\", text)\n",
        "    text = re.sub(r\"\\'m\", \" am\", text)\n",
        "\n",
        "    # remove punctuation\n",
        "    text = re.sub(r'[^\\w\\s]', '', text)\n",
        "\n",
        "    tokens = word_tokenize(text)\n",
        "    stops = set(stopwords.words('english'))\n",
        "\n",
        "    filtered_tokens = [\n",
        "        token for token in tokens\n",
        "        if token not in stops and token.isalpha()\n",
        "    ]\n",
        "\n",
        "    lemmatizer = WordNetLemmatizer()\n",
        "    lemmatized_tokens = [lemmatizer.lemmatize(token) for token in filtered_tokens]\n",
        "\n",
        "    # 8. Join tokens back into a single string\n",
        "    return ' '.join(lemmatized_tokens)\n",
        "\n",
        "\n",
        "def read_txt_file(file_path):\n",
        "    with open(file_path, \"r\") as f:\n",
        "        return f.readlines()\n",
        "\n",
        "\n",
        "def create_vocab(lines, min_freq):\n",
        "    total_word_counts = []\n",
        "    word2index = {\"<PAD>\": 0, \"<UNK>\": 1, \"<SOS>\": 2, \"<EOS>\": 3}\n",
        "    word2count = {}\n",
        "    for sample in lines:\n",
        "        text = sample.split(\"\\t\")[0]\n",
        "        word_count = len(text.split())\n",
        "        total_word_counts.append(word_count)\n",
        "        for w in text.split():\n",
        "            if w not in word2count:\n",
        "                word2count[w] = 1\n",
        "            else:\n",
        "                word2count[w] += 1\n",
        "\n",
        "    for w, c in word2count.items():\n",
        "        if c >= min_freq:\n",
        "            word2index[w] = len(word2index)\n",
        "    return word2index, total_word_counts\n",
        "\n",
        "\n",
        "def convert_to_sentiment(label):\n",
        "    if (int(label) <= 2):\n",
        "        return 'negative'\n",
        "    elif (int(label) == 3):\n",
        "        return 'neutral'\n",
        "    else:\n",
        "        return 'positive'\n",
        "\n",
        "def prepare_dataset(csv_file):\n",
        "    print(\"Preparing dataset...\")\n",
        "\n",
        "    # Load CSV file\n",
        "    df = pd.read_csv(csv_file)\n",
        "    df.columns = ['label', 'text']\n",
        "    df['label'] = df['label'].apply(convert_to_sentiment)\n",
        "    sentiment_mapping = {'negative': 0, 'neutral': 1, 'positive': 2}\n",
        "    df['label'] = df['label'].map(sentiment_mapping)\n",
        "    dataset = []\n",
        "\n",
        "    # Process each row in the CSV file\n",
        "    for _, row in df.iterrows():\n",
        "        text = normalize_text(str(row[\"text\"]))\n",
        "        label = str(row[\"label\"])\n",
        "        sample = f\"{text}\\t{label}\"\n",
        "        dataset.append(sample)\n",
        "\n",
        "    np.random.shuffle(dataset)\n",
        "    word2index, total_word_counts = create_vocab(dataset, 25)\n",
        "    print(f\"Vocab size:\", len(word2index))\n",
        "\n",
        "    # create train/val/test\n",
        "    n_train = int(len(dataset) * 0.8)\n",
        "    n_val = int(len(dataset) * 0.1)\n",
        "    dataset = {\n",
        "        \"train\": dataset[:n_train],\n",
        "        \"val\": dataset[n_train : n_train + n_val],\n",
        "        \"test\": dataset[-n_val:],\n",
        "    }\n",
        "    return dataset, word2index, total_word_counts"
      ]
    },
    {
      "cell_type": "markdown",
      "metadata": {
        "id": "MkK2QO9ChPS-"
      },
      "source": [
        "### Model Defination"
      ]
    },
    {
      "cell_type": "code",
      "execution_count": 8,
      "metadata": {
        "id": "XoxLSjYb2hJx"
      },
      "outputs": [],
      "source": [
        "import torch\n",
        "\n",
        "class LSTMClassifier(torch.nn.Module):\n",
        "    def __init__(self, vocab_size, embedding_dim, hidden_dim, dropout, n_layers, n_classes):\n",
        "        super(LSTMClassifier, self).__init__()\n",
        "        self.embedding_layer = torch.nn.Embedding(vocab_size, embedding_dim)\n",
        "        self.rnn = torch.nn.LSTM(embedding_dim, hidden_dim, n_layers, dropout=0.3, batch_first=True)\n",
        "        self.dropout = torch.nn.Dropout(dropout)\n",
        "        self.out = torch.nn.Linear(hidden_dim, n_classes)\n",
        "\n",
        "    def forward(self, x):\n",
        "        embedded = self.embedding_layer(x[\"input_ids\"])\n",
        "        pcked = torch.nn.utils.rnn.pack_padded_sequence(\n",
        "            embedded,\n",
        "            x[\"length\"],\n",
        "            enforce_sorted=False,\n",
        "            batch_first=True,\n",
        "        )\n",
        "\n",
        "        output, _ = self.rnn(pcked)\n",
        "        output, _ = torch.nn.utils.rnn.pad_packed_sequence(\n",
        "            output,\n",
        "            padding_value=2,\n",
        "            batch_first=True,\n",
        "        )\n",
        "        output = output[range(len(output)), x[\"length\"] - 1]\n",
        "        output = self.dropout(output)\n",
        "        return self.out(output)\n"
      ]
    },
    {
      "cell_type": "markdown",
      "metadata": {
        "id": "otT_ZozghSB1"
      },
      "source": [
        "### Data defination"
      ]
    },
    {
      "cell_type": "code",
      "execution_count": 9,
      "metadata": {
        "id": "CAZ8FgAy2hOM"
      },
      "outputs": [],
      "source": [
        "class YelpReviews(torch.utils.data.Dataset):\n",
        "    def __init__(self, data, word2index, max_sent_length, device):\n",
        "        self.data = data\n",
        "        self.word2index = word2index\n",
        "        self.max_sent_length = max_sent_length\n",
        "        self.device = device\n",
        "\n",
        "    def __len__(self):\n",
        "        return len(self.data)\n",
        "\n",
        "    def __getitem__(self, index):\n",
        "        sample = self.data[index]\n",
        "        text, label = sample.split(\"\\t\")\n",
        "        label = int(label)\n",
        "        input_ids, _text, text_length = self.text2indices(text)\n",
        "        return {\n",
        "            \"text\": _text,\n",
        "            \"input_ids\": torch.tensor(input_ids).to(self.device),\n",
        "            \"label\": torch.tensor(label).to(self.device),\n",
        "            \"length\": text_length,\n",
        "        }\n",
        "\n",
        "    def text2indices(self, sentence):\n",
        "        sos_id = self.word2index[\"<SOS>\"]\n",
        "        eos_id = self.word2index[\"<EOS>\"]\n",
        "        pad_id = self.word2index[\"<PAD>\"]\n",
        "        unk_id = self.word2index[\"<UNK>\"]\n",
        "        input_ids, text = [sos_id], [\"<SOS>\"]\n",
        "        for w in sentence.split():\n",
        "            token_id = self.word2index.get(w, unk_id)\n",
        "            input_ids.append(token_id)\n",
        "            if token_id == unk_id:\n",
        "                text.append(\"<UNK>\")\n",
        "            else:\n",
        "                text.append(w)\n",
        "\n",
        "        if len(input_ids) >= self.max_sent_length:  # truncate\n",
        "            text = text[: self.max_sent_length]\n",
        "            text.append(\"<EOS>\")\n",
        "            input_ids = input_ids[: self.max_sent_length]\n",
        "            input_ids.append(eos_id)\n",
        "            text_len = len(input_ids)\n",
        "\n",
        "        else:  # pad\n",
        "            to_add = self.max_sent_length - len(input_ids)\n",
        "            text.append(\"<EOS>\")\n",
        "            input_ids.append(eos_id)\n",
        "            text_len = len(input_ids)\n",
        "            text.extend([\"<PAD>\"] * to_add)\n",
        "            input_ids.extend([pad_id] * to_add)\n",
        "\n",
        "        return input_ids, \" \".join(text), text_len\n",
        "\n",
        "\n",
        "def make_dataloader(dataset, word2index, max_sent_length, batch_size, device):\n",
        "    ds = YelpReviews(dataset, word2index, max_sent_length, device)\n",
        "    return torch.utils.data.DataLoader(ds, batch_size, shuffle=True)"
      ]
    },
    {
      "cell_type": "markdown",
      "metadata": {
        "id": "BFUB4xU-hj1x"
      },
      "source": [
        "### Training and validation loop"
      ]
    },
    {
      "cell_type": "code",
      "execution_count": null,
      "metadata": {
        "id": "zWhZlIVT2hSV"
      },
      "outputs": [],
      "source": [
        "import matplotlib.pyplot as plt\n",
        "from tqdm import tqdm\n",
        "import time\n",
        "import random\n",
        "from itertools import product\n",
        "\n",
        "# Get path to dataset.csv\n",
        "data_dir = \"/content/drive/MyDrive/datasets/test.csv\"\n",
        "\n",
        "def train(dloader, model, criterion, optimizer):\n",
        "    model.train()\n",
        "    train_losses, train_accs = [], []\n",
        "    for batch in tqdm(dloader, desc=\"Training\"):\n",
        "        y = batch[\"label\"]\n",
        "        logits = model(batch)\n",
        "        loss = criterion(logits, y)\n",
        "        optimizer.zero_grad()\n",
        "        loss.backward()\n",
        "        optimizer.step()\n",
        "        train_losses.append(loss.item())\n",
        "        preds = torch.argmax(logits, -1)\n",
        "        train_accs.append((preds == y).float().mean().item())\n",
        "\n",
        "    avg_loss = np.array(train_losses).mean()\n",
        "    avg_acc = np.array(train_accs).mean()\n",
        "\n",
        "    print(\n",
        "        f\"Train Loss: {avg_loss:.4f} | Train Accuracy: {avg_acc:.4f}\"\n",
        "    )\n",
        "\n",
        "    return avg_loss, avg_acc\n",
        "\n",
        "@torch.no_grad()\n",
        "def test(dloader, model, criterion):\n",
        "    model.eval()\n",
        "    test_losses, test_accs = [], []\n",
        "    for batch in tqdm(dloader, desc=\"Evaluating\"):\n",
        "        y = batch[\"label\"]\n",
        "        logits = model(batch)\n",
        "        loss = criterion(logits, y)\n",
        "        test_losses.append(loss.item())\n",
        "        preds = torch.argmax(logits, -1)\n",
        "        test_accs.append((preds == y).float().mean().item())\n",
        "\n",
        "    avg_loss = np.array(test_losses).mean()\n",
        "    avg_acc = np.array(test_accs).mean()\n",
        "\n",
        "    print(f\"Loss: {avg_loss:.4f} | Accuracy: {avg_acc:.4f}\")\n",
        "\n",
        "    return avg_loss, avg_acc\n",
        "\n",
        "def save_cp(model):\n",
        "    if not os.path.exists(\"checkpoints\"):\n",
        "        os.makedirs(\"checkpoints\")\n",
        "    torch.save(model.state_dict(), \"checkpoints/lstm_model.pt\")\n",
        "\n",
        "# Reproducibility\n",
        "torch.manual_seed(42)\n",
        "if torch.cuda.is_available():\n",
        "    torch.cuda.manual_seed_all(42)\n",
        "\n",
        "device = \"cuda\" if torch.cuda.is_available() else \"cpu\"\n",
        "dataset, word2index, total_word_counts = prepare_dataset(data_dir)"
      ]
    },
    {
      "cell_type": "code",
      "execution_count": null,
      "metadata": {
        "colab": {
          "base_uri": "https://localhost:8080/"
        },
        "id": "bKOa9P3B6N49",
        "outputId": "b8e0fc03-6be9-4269-bf07-fa92da923317"
      },
      "outputs": [
        {
          "name": "stdout",
          "output_type": "stream",
          "text": [
            "\n",
            "🔁 Trial 1: Params = (128, 128, 0.5)\n",
            "===Epoch 0===\n",
            "Training...\n"
          ]
        },
        {
          "name": "stderr",
          "output_type": "stream",
          "text": [
            "Training: 100%|██████████| 313/313 [00:06<00:00, 46.65it/s]\n"
          ]
        },
        {
          "name": "stdout",
          "output_type": "stream",
          "text": [
            "Train Loss: 1.0620 | Train Accuracy: 0.4211\n",
            "Validating...\n"
          ]
        },
        {
          "name": "stderr",
          "output_type": "stream",
          "text": [
            "Evaluating: 100%|██████████| 313/313 [00:02<00:00, 138.10it/s]\n"
          ]
        },
        {
          "name": "stdout",
          "output_type": "stream",
          "text": [
            "Loss: 1.0489 | Accuracy: 0.4627\n",
            "===Epoch 1===\n",
            "Training...\n"
          ]
        },
        {
          "name": "stderr",
          "output_type": "stream",
          "text": [
            "Training: 100%|██████████| 313/313 [00:06<00:00, 49.26it/s]\n"
          ]
        },
        {
          "name": "stdout",
          "output_type": "stream",
          "text": [
            "Train Loss: 1.0471 | Train Accuracy: 0.4675\n",
            "Validating...\n"
          ]
        },
        {
          "name": "stderr",
          "output_type": "stream",
          "text": [
            "Evaluating: 100%|██████████| 313/313 [00:02<00:00, 132.52it/s]\n"
          ]
        },
        {
          "name": "stdout",
          "output_type": "stream",
          "text": [
            "Loss: 1.0307 | Accuracy: 0.4978\n",
            "===Epoch 2===\n",
            "Training...\n"
          ]
        },
        {
          "name": "stderr",
          "output_type": "stream",
          "text": [
            "Training: 100%|██████████| 313/313 [00:06<00:00, 50.13it/s]\n"
          ]
        },
        {
          "name": "stdout",
          "output_type": "stream",
          "text": [
            "Train Loss: 0.9728 | Train Accuracy: 0.5457\n",
            "Validating...\n"
          ]
        },
        {
          "name": "stderr",
          "output_type": "stream",
          "text": [
            "Evaluating: 100%|██████████| 313/313 [00:02<00:00, 134.91it/s]\n"
          ]
        },
        {
          "name": "stdout",
          "output_type": "stream",
          "text": [
            "Loss: 0.9348 | Accuracy: 0.5759\n",
            "===Epoch 3===\n",
            "Training...\n"
          ]
        },
        {
          "name": "stderr",
          "output_type": "stream",
          "text": [
            "Training: 100%|██████████| 313/313 [00:06<00:00, 48.43it/s]\n"
          ]
        },
        {
          "name": "stdout",
          "output_type": "stream",
          "text": [
            "Train Loss: 0.8998 | Train Accuracy: 0.6040\n",
            "Validating...\n"
          ]
        },
        {
          "name": "stderr",
          "output_type": "stream",
          "text": [
            "Evaluating: 100%|██████████| 313/313 [00:02<00:00, 137.01it/s]\n"
          ]
        },
        {
          "name": "stdout",
          "output_type": "stream",
          "text": [
            "Loss: 0.8920 | Accuracy: 0.6072\n",
            "===Epoch 4===\n",
            "Training...\n"
          ]
        },
        {
          "name": "stderr",
          "output_type": "stream",
          "text": [
            "Training: 100%|██████████| 313/313 [00:06<00:00, 48.87it/s]\n"
          ]
        },
        {
          "name": "stdout",
          "output_type": "stream",
          "text": [
            "Train Loss: 0.8600 | Train Accuracy: 0.6296\n",
            "Validating...\n"
          ]
        },
        {
          "name": "stderr",
          "output_type": "stream",
          "text": [
            "Evaluating: 100%|██████████| 313/313 [00:02<00:00, 136.13it/s]\n"
          ]
        },
        {
          "name": "stdout",
          "output_type": "stream",
          "text": [
            "Loss: 0.8662 | Accuracy: 0.6254\n",
            "best pair currently is (128, 128, 0.5)\n",
            "\n",
            "🔁 Trial 2: Params = (256, 64, 0.5)\n",
            "===Epoch 0===\n",
            "Training...\n"
          ]
        },
        {
          "name": "stderr",
          "output_type": "stream",
          "text": [
            "Training: 100%|██████████| 313/313 [00:06<00:00, 50.17it/s]\n"
          ]
        },
        {
          "name": "stdout",
          "output_type": "stream",
          "text": [
            "Train Loss: 1.0660 | Train Accuracy: 0.3988\n",
            "Validating...\n"
          ]
        },
        {
          "name": "stderr",
          "output_type": "stream",
          "text": [
            "Evaluating: 100%|██████████| 313/313 [00:02<00:00, 122.45it/s]\n"
          ]
        },
        {
          "name": "stdout",
          "output_type": "stream",
          "text": [
            "Loss: 1.0523 | Accuracy: 0.4261\n",
            "===Epoch 1===\n",
            "Training...\n"
          ]
        },
        {
          "name": "stderr",
          "output_type": "stream",
          "text": [
            "Training: 100%|██████████| 313/313 [00:06<00:00, 48.99it/s]\n"
          ]
        },
        {
          "name": "stdout",
          "output_type": "stream",
          "text": [
            "Train Loss: 1.0540 | Train Accuracy: 0.4305\n",
            "Validating...\n"
          ]
        },
        {
          "name": "stderr",
          "output_type": "stream",
          "text": [
            "Evaluating: 100%|██████████| 313/313 [00:02<00:00, 128.44it/s]\n"
          ]
        },
        {
          "name": "stdout",
          "output_type": "stream",
          "text": [
            "Loss: 1.0457 | Accuracy: 0.4748\n",
            "===Epoch 2===\n",
            "Training...\n"
          ]
        },
        {
          "name": "stderr",
          "output_type": "stream",
          "text": [
            "Training: 100%|██████████| 313/313 [00:06<00:00, 48.82it/s]\n"
          ]
        },
        {
          "name": "stdout",
          "output_type": "stream",
          "text": [
            "Train Loss: 1.0409 | Train Accuracy: 0.4804\n",
            "Validating...\n"
          ]
        },
        {
          "name": "stderr",
          "output_type": "stream",
          "text": [
            "Evaluating: 100%|██████████| 313/313 [00:02<00:00, 134.35it/s]\n"
          ]
        },
        {
          "name": "stdout",
          "output_type": "stream",
          "text": [
            "Loss: 1.0272 | Accuracy: 0.5108\n",
            "===Epoch 3===\n",
            "Training...\n"
          ]
        },
        {
          "name": "stderr",
          "output_type": "stream",
          "text": [
            "Training: 100%|██████████| 313/313 [00:06<00:00, 50.29it/s]\n"
          ]
        },
        {
          "name": "stdout",
          "output_type": "stream",
          "text": [
            "Train Loss: 0.9726 | Train Accuracy: 0.5561\n",
            "Validating...\n"
          ]
        },
        {
          "name": "stderr",
          "output_type": "stream",
          "text": [
            "Evaluating: 100%|██████████| 313/313 [00:02<00:00, 133.60it/s]\n"
          ]
        },
        {
          "name": "stdout",
          "output_type": "stream",
          "text": [
            "Loss: 0.9154 | Accuracy: 0.5982\n",
            "===Epoch 4===\n",
            "Training...\n"
          ]
        },
        {
          "name": "stderr",
          "output_type": "stream",
          "text": [
            "Training: 100%|██████████| 313/313 [00:06<00:00, 50.53it/s]\n"
          ]
        },
        {
          "name": "stdout",
          "output_type": "stream",
          "text": [
            "Train Loss: 0.8628 | Train Accuracy: 0.6248\n",
            "Validating...\n"
          ]
        },
        {
          "name": "stderr",
          "output_type": "stream",
          "text": [
            "Evaluating: 100%|██████████| 313/313 [00:02<00:00, 131.40it/s]\n"
          ]
        },
        {
          "name": "stdout",
          "output_type": "stream",
          "text": [
            "Loss: 0.8534 | Accuracy: 0.6358\n",
            "\n",
            "🔁 Trial 3: Params = (128, 64, 0.3)\n",
            "===Epoch 0===\n",
            "Training...\n"
          ]
        },
        {
          "name": "stderr",
          "output_type": "stream",
          "text": [
            "Training: 100%|██████████| 313/313 [00:06<00:00, 50.10it/s]\n"
          ]
        },
        {
          "name": "stdout",
          "output_type": "stream",
          "text": [
            "Train Loss: 1.0626 | Train Accuracy: 0.4073\n",
            "Validating...\n"
          ]
        },
        {
          "name": "stderr",
          "output_type": "stream",
          "text": [
            "Evaluating: 100%|██████████| 313/313 [00:02<00:00, 132.10it/s]\n"
          ]
        },
        {
          "name": "stdout",
          "output_type": "stream",
          "text": [
            "Loss: 1.0523 | Accuracy: 0.4455\n",
            "===Epoch 1===\n",
            "Training...\n"
          ]
        },
        {
          "name": "stderr",
          "output_type": "stream",
          "text": [
            "Training: 100%|██████████| 313/313 [00:06<00:00, 51.01it/s]\n"
          ]
        },
        {
          "name": "stdout",
          "output_type": "stream",
          "text": [
            "Train Loss: 1.0540 | Train Accuracy: 0.4305\n",
            "Validating...\n"
          ]
        },
        {
          "name": "stderr",
          "output_type": "stream",
          "text": [
            "Evaluating: 100%|██████████| 313/313 [00:02<00:00, 135.98it/s]\n"
          ]
        },
        {
          "name": "stdout",
          "output_type": "stream",
          "text": [
            "Loss: 1.0477 | Accuracy: 0.4409\n",
            "===Epoch 2===\n",
            "Training...\n"
          ]
        },
        {
          "name": "stderr",
          "output_type": "stream",
          "text": [
            "Training: 100%|██████████| 313/313 [00:05<00:00, 52.21it/s]\n"
          ]
        },
        {
          "name": "stdout",
          "output_type": "stream",
          "text": [
            "Train Loss: 1.0420 | Train Accuracy: 0.4796\n",
            "Validating...\n"
          ]
        },
        {
          "name": "stderr",
          "output_type": "stream",
          "text": [
            "Evaluating: 100%|██████████| 313/313 [00:02<00:00, 133.11it/s]\n"
          ]
        },
        {
          "name": "stdout",
          "output_type": "stream",
          "text": [
            "Loss: 1.0217 | Accuracy: 0.5100\n",
            "===Epoch 3===\n",
            "Training...\n"
          ]
        },
        {
          "name": "stderr",
          "output_type": "stream",
          "text": [
            "Training: 100%|██████████| 313/313 [00:05<00:00, 52.42it/s]\n"
          ]
        },
        {
          "name": "stdout",
          "output_type": "stream",
          "text": [
            "Train Loss: 0.9717 | Train Accuracy: 0.5611\n",
            "Validating...\n"
          ]
        },
        {
          "name": "stderr",
          "output_type": "stream",
          "text": [
            "Evaluating: 100%|██████████| 313/313 [00:02<00:00, 137.45it/s]\n"
          ]
        },
        {
          "name": "stdout",
          "output_type": "stream",
          "text": [
            "Loss: 0.9306 | Accuracy: 0.5873\n",
            "===Epoch 4===\n",
            "Training...\n"
          ]
        },
        {
          "name": "stderr",
          "output_type": "stream",
          "text": [
            "Training: 100%|██████████| 313/313 [00:06<00:00, 51.46it/s]\n"
          ]
        },
        {
          "name": "stdout",
          "output_type": "stream",
          "text": [
            "Train Loss: 0.9163 | Train Accuracy: 0.5942\n",
            "Validating...\n"
          ]
        },
        {
          "name": "stderr",
          "output_type": "stream",
          "text": [
            "Evaluating: 100%|██████████| 313/313 [00:02<00:00, 137.78it/s]\n"
          ]
        },
        {
          "name": "stdout",
          "output_type": "stream",
          "text": [
            "Loss: 0.9095 | Accuracy: 0.6026\n",
            "\n",
            "🔁 Trial 4: Params = (128, 128, 0.3)\n",
            "===Epoch 0===\n",
            "Training...\n"
          ]
        },
        {
          "name": "stderr",
          "output_type": "stream",
          "text": [
            "Training: 100%|██████████| 313/313 [00:06<00:00, 49.41it/s]\n"
          ]
        },
        {
          "name": "stdout",
          "output_type": "stream",
          "text": [
            "Train Loss: 1.0608 | Train Accuracy: 0.4038\n",
            "Validating...\n"
          ]
        },
        {
          "name": "stderr",
          "output_type": "stream",
          "text": [
            "Evaluating: 100%|██████████| 313/313 [00:02<00:00, 133.40it/s]\n"
          ]
        },
        {
          "name": "stdout",
          "output_type": "stream",
          "text": [
            "Loss: 1.0486 | Accuracy: 0.4465\n",
            "===Epoch 1===\n",
            "Training...\n"
          ]
        },
        {
          "name": "stderr",
          "output_type": "stream",
          "text": [
            "Training: 100%|██████████| 313/313 [00:06<00:00, 49.41it/s]\n"
          ]
        },
        {
          "name": "stdout",
          "output_type": "stream",
          "text": [
            "Train Loss: 1.0384 | Train Accuracy: 0.4868\n",
            "Validating...\n"
          ]
        },
        {
          "name": "stderr",
          "output_type": "stream",
          "text": [
            "Evaluating: 100%|██████████| 313/313 [00:02<00:00, 135.76it/s]\n"
          ]
        },
        {
          "name": "stdout",
          "output_type": "stream",
          "text": [
            "Loss: 0.9990 | Accuracy: 0.5244\n",
            "===Epoch 2===\n",
            "Training...\n"
          ]
        },
        {
          "name": "stderr",
          "output_type": "stream",
          "text": [
            "Training: 100%|██████████| 313/313 [00:06<00:00, 47.91it/s]\n"
          ]
        },
        {
          "name": "stdout",
          "output_type": "stream",
          "text": [
            "Train Loss: 0.9325 | Train Accuracy: 0.5793\n",
            "Validating...\n"
          ]
        },
        {
          "name": "stderr",
          "output_type": "stream",
          "text": [
            "Evaluating: 100%|██████████| 313/313 [00:02<00:00, 135.36it/s]\n"
          ]
        },
        {
          "name": "stdout",
          "output_type": "stream",
          "text": [
            "Loss: 0.9125 | Accuracy: 0.5958\n",
            "===Epoch 3===\n",
            "Training...\n"
          ]
        },
        {
          "name": "stderr",
          "output_type": "stream",
          "text": [
            "Training: 100%|██████████| 313/313 [00:06<00:00, 48.37it/s]\n"
          ]
        },
        {
          "name": "stdout",
          "output_type": "stream",
          "text": [
            "Train Loss: 0.8794 | Train Accuracy: 0.6094\n",
            "Validating...\n"
          ]
        },
        {
          "name": "stderr",
          "output_type": "stream",
          "text": [
            "Evaluating: 100%|██████████| 313/313 [00:02<00:00, 136.47it/s]\n"
          ]
        },
        {
          "name": "stdout",
          "output_type": "stream",
          "text": [
            "Loss: 0.8828 | Accuracy: 0.6160\n",
            "===Epoch 4===\n",
            "Training...\n"
          ]
        },
        {
          "name": "stderr",
          "output_type": "stream",
          "text": [
            "Training: 100%|██████████| 313/313 [00:06<00:00, 49.68it/s]\n"
          ]
        },
        {
          "name": "stdout",
          "output_type": "stream",
          "text": [
            "Train Loss: 0.8428 | Train Accuracy: 0.6332\n",
            "Validating...\n"
          ]
        },
        {
          "name": "stderr",
          "output_type": "stream",
          "text": [
            "Evaluating: 100%|██████████| 313/313 [00:02<00:00, 134.23it/s]\n"
          ]
        },
        {
          "name": "stdout",
          "output_type": "stream",
          "text": [
            "Loss: 0.8743 | Accuracy: 0.6200\n",
            "best pair currently is (128, 128, 0.3)\n",
            "\n",
            "🔁 Trial 5: Params = (128, 64, 0.5)\n",
            "===Epoch 0===\n",
            "Training...\n"
          ]
        },
        {
          "name": "stderr",
          "output_type": "stream",
          "text": [
            "Training: 100%|██████████| 313/313 [00:06<00:00, 51.68it/s]\n"
          ]
        },
        {
          "name": "stdout",
          "output_type": "stream",
          "text": [
            "Train Loss: 1.0734 | Train Accuracy: 0.3960\n",
            "Validating...\n"
          ]
        },
        {
          "name": "stderr",
          "output_type": "stream",
          "text": [
            "Evaluating: 100%|██████████| 313/313 [00:02<00:00, 133.19it/s]\n"
          ]
        },
        {
          "name": "stdout",
          "output_type": "stream",
          "text": [
            "Loss: 1.0535 | Accuracy: 0.4371\n",
            "===Epoch 1===\n",
            "Training...\n"
          ]
        },
        {
          "name": "stderr",
          "output_type": "stream",
          "text": [
            "Training: 100%|██████████| 313/313 [00:06<00:00, 50.12it/s]\n"
          ]
        },
        {
          "name": "stdout",
          "output_type": "stream",
          "text": [
            "Train Loss: 1.0576 | Train Accuracy: 0.4227\n",
            "Validating...\n"
          ]
        },
        {
          "name": "stderr",
          "output_type": "stream",
          "text": [
            "Evaluating: 100%|██████████| 313/313 [00:02<00:00, 134.15it/s]\n"
          ]
        },
        {
          "name": "stdout",
          "output_type": "stream",
          "text": [
            "Loss: 1.0491 | Accuracy: 0.4529\n",
            "===Epoch 2===\n",
            "Training...\n"
          ]
        },
        {
          "name": "stderr",
          "output_type": "stream",
          "text": [
            "Training: 100%|██████████| 313/313 [00:06<00:00, 51.48it/s]\n"
          ]
        },
        {
          "name": "stdout",
          "output_type": "stream",
          "text": [
            "Train Loss: 1.0522 | Train Accuracy: 0.4511\n",
            "Validating...\n"
          ]
        },
        {
          "name": "stderr",
          "output_type": "stream",
          "text": [
            "Evaluating: 100%|██████████| 313/313 [00:02<00:00, 133.86it/s]\n"
          ]
        },
        {
          "name": "stdout",
          "output_type": "stream",
          "text": [
            "Loss: 1.0431 | Accuracy: 0.4786\n",
            "===Epoch 3===\n",
            "Training...\n"
          ]
        },
        {
          "name": "stderr",
          "output_type": "stream",
          "text": [
            "Training: 100%|██████████| 313/313 [00:06<00:00, 51.89it/s]\n"
          ]
        },
        {
          "name": "stdout",
          "output_type": "stream",
          "text": [
            "Train Loss: 1.0365 | Train Accuracy: 0.4976\n",
            "Validating...\n"
          ]
        },
        {
          "name": "stderr",
          "output_type": "stream",
          "text": [
            "Evaluating: 100%|██████████| 313/313 [00:02<00:00, 134.31it/s]\n"
          ]
        },
        {
          "name": "stdout",
          "output_type": "stream",
          "text": [
            "Loss: 1.0076 | Accuracy: 0.5292\n",
            "===Epoch 4===\n",
            "Training...\n"
          ]
        },
        {
          "name": "stderr",
          "output_type": "stream",
          "text": [
            "Training: 100%|██████████| 313/313 [00:06<00:00, 51.23it/s]\n"
          ]
        },
        {
          "name": "stdout",
          "output_type": "stream",
          "text": [
            "Train Loss: 0.9641 | Train Accuracy: 0.5623\n",
            "Validating...\n"
          ]
        },
        {
          "name": "stderr",
          "output_type": "stream",
          "text": [
            "Evaluating: 100%|██████████| 313/313 [00:02<00:00, 135.13it/s]\n"
          ]
        },
        {
          "name": "stdout",
          "output_type": "stream",
          "text": [
            "Loss: 0.9386 | Accuracy: 0.5799\n",
            "\n",
            "🔁 Trial 6: Params = (256, 128, 0.3)\n",
            "===Epoch 0===\n",
            "Training...\n"
          ]
        },
        {
          "name": "stderr",
          "output_type": "stream",
          "text": [
            "Training: 100%|██████████| 313/313 [00:06<00:00, 47.43it/s]\n"
          ]
        },
        {
          "name": "stdout",
          "output_type": "stream",
          "text": [
            "Train Loss: 1.0585 | Train Accuracy: 0.4263\n",
            "Validating...\n"
          ]
        },
        {
          "name": "stderr",
          "output_type": "stream",
          "text": [
            "Evaluating: 100%|██████████| 313/313 [00:02<00:00, 132.76it/s]\n"
          ]
        },
        {
          "name": "stdout",
          "output_type": "stream",
          "text": [
            "Loss: 1.0464 | Accuracy: 0.4734\n",
            "===Epoch 1===\n",
            "Training...\n"
          ]
        },
        {
          "name": "stderr",
          "output_type": "stream",
          "text": [
            "Training: 100%|██████████| 313/313 [00:06<00:00, 48.12it/s]\n"
          ]
        },
        {
          "name": "stdout",
          "output_type": "stream",
          "text": [
            "Train Loss: 1.0173 | Train Accuracy: 0.5072\n",
            "Validating...\n"
          ]
        },
        {
          "name": "stderr",
          "output_type": "stream",
          "text": [
            "Evaluating: 100%|██████████| 313/313 [00:02<00:00, 129.49it/s]\n"
          ]
        },
        {
          "name": "stdout",
          "output_type": "stream",
          "text": [
            "Loss: 0.9045 | Accuracy: 0.6070\n",
            "===Epoch 2===\n",
            "Training...\n"
          ]
        },
        {
          "name": "stderr",
          "output_type": "stream",
          "text": [
            "Training: 100%|██████████| 313/313 [00:06<00:00, 48.35it/s]\n"
          ]
        },
        {
          "name": "stdout",
          "output_type": "stream",
          "text": [
            "Train Loss: 0.8635 | Train Accuracy: 0.6238\n",
            "Validating...\n"
          ]
        },
        {
          "name": "stderr",
          "output_type": "stream",
          "text": [
            "Evaluating: 100%|██████████| 313/313 [00:02<00:00, 131.00it/s]\n"
          ]
        },
        {
          "name": "stdout",
          "output_type": "stream",
          "text": [
            "Loss: 0.8441 | Accuracy: 0.6392\n",
            "===Epoch 3===\n",
            "Training...\n"
          ]
        },
        {
          "name": "stderr",
          "output_type": "stream",
          "text": [
            "Training: 100%|██████████| 313/313 [00:06<00:00, 48.06it/s]\n"
          ]
        },
        {
          "name": "stdout",
          "output_type": "stream",
          "text": [
            "Train Loss: 0.7930 | Train Accuracy: 0.6599\n",
            "Validating...\n"
          ]
        },
        {
          "name": "stderr",
          "output_type": "stream",
          "text": [
            "Evaluating: 100%|██████████| 313/313 [00:02<00:00, 132.06it/s]\n"
          ]
        },
        {
          "name": "stdout",
          "output_type": "stream",
          "text": [
            "Loss: 0.8199 | Accuracy: 0.6542\n",
            "===Epoch 4===\n",
            "Training...\n"
          ]
        },
        {
          "name": "stderr",
          "output_type": "stream",
          "text": [
            "Training: 100%|██████████| 313/313 [00:06<00:00, 48.09it/s]\n"
          ]
        },
        {
          "name": "stdout",
          "output_type": "stream",
          "text": [
            "Train Loss: 0.7427 | Train Accuracy: 0.6831\n",
            "Validating...\n"
          ]
        },
        {
          "name": "stderr",
          "output_type": "stream",
          "text": [
            "Evaluating: 100%|██████████| 313/313 [00:02<00:00, 130.72it/s]\n"
          ]
        },
        {
          "name": "stdout",
          "output_type": "stream",
          "text": [
            "Loss: 0.7980 | Accuracy: 0.6707\n",
            "best pair currently is (256, 128, 0.3)\n",
            "\n",
            "🔁 Trial 7: Params = (256, 64, 0.3)\n",
            "===Epoch 0===\n",
            "Training...\n"
          ]
        },
        {
          "name": "stderr",
          "output_type": "stream",
          "text": [
            "Training: 100%|██████████| 313/313 [00:06<00:00, 50.59it/s]\n"
          ]
        },
        {
          "name": "stdout",
          "output_type": "stream",
          "text": [
            "Train Loss: 1.0601 | Train Accuracy: 0.4239\n",
            "Validating...\n"
          ]
        },
        {
          "name": "stderr",
          "output_type": "stream",
          "text": [
            "Evaluating: 100%|██████████| 313/313 [00:02<00:00, 132.54it/s]\n"
          ]
        },
        {
          "name": "stdout",
          "output_type": "stream",
          "text": [
            "Loss: 1.0480 | Accuracy: 0.4543\n",
            "===Epoch 1===\n",
            "Training...\n"
          ]
        },
        {
          "name": "stderr",
          "output_type": "stream",
          "text": [
            "Training: 100%|██████████| 313/313 [00:06<00:00, 50.34it/s]\n"
          ]
        },
        {
          "name": "stdout",
          "output_type": "stream",
          "text": [
            "Train Loss: 1.0444 | Train Accuracy: 0.4754\n",
            "Validating...\n"
          ]
        },
        {
          "name": "stderr",
          "output_type": "stream",
          "text": [
            "Evaluating: 100%|██████████| 313/313 [00:02<00:00, 133.54it/s]\n"
          ]
        },
        {
          "name": "stdout",
          "output_type": "stream",
          "text": [
            "Loss: 1.0349 | Accuracy: 0.4896\n",
            "===Epoch 2===\n",
            "Training...\n"
          ]
        },
        {
          "name": "stderr",
          "output_type": "stream",
          "text": [
            "Training: 100%|██████████| 313/313 [00:06<00:00, 49.95it/s]\n"
          ]
        },
        {
          "name": "stdout",
          "output_type": "stream",
          "text": [
            "Train Loss: 1.0041 | Train Accuracy: 0.5357\n",
            "Validating...\n"
          ]
        },
        {
          "name": "stderr",
          "output_type": "stream",
          "text": [
            "Evaluating: 100%|██████████| 313/313 [00:02<00:00, 135.97it/s]\n"
          ]
        },
        {
          "name": "stdout",
          "output_type": "stream",
          "text": [
            "Loss: 0.9426 | Accuracy: 0.5743\n",
            "===Epoch 3===\n",
            "Training...\n"
          ]
        },
        {
          "name": "stderr",
          "output_type": "stream",
          "text": [
            "Training: 100%|██████████| 313/313 [00:06<00:00, 50.09it/s]\n"
          ]
        },
        {
          "name": "stdout",
          "output_type": "stream",
          "text": [
            "Train Loss: 0.8901 | Train Accuracy: 0.6114\n",
            "Validating...\n"
          ]
        },
        {
          "name": "stderr",
          "output_type": "stream",
          "text": [
            "Evaluating: 100%|██████████| 313/313 [00:02<00:00, 129.28it/s]\n"
          ]
        },
        {
          "name": "stdout",
          "output_type": "stream",
          "text": [
            "Loss: 0.8721 | Accuracy: 0.6224\n",
            "===Epoch 4===\n",
            "Training...\n"
          ]
        },
        {
          "name": "stderr",
          "output_type": "stream",
          "text": [
            "Training: 100%|██████████| 313/313 [00:06<00:00, 51.50it/s]\n"
          ]
        },
        {
          "name": "stdout",
          "output_type": "stream",
          "text": [
            "Train Loss: 0.8299 | Train Accuracy: 0.6370\n",
            "Validating...\n"
          ]
        },
        {
          "name": "stderr",
          "output_type": "stream",
          "text": [
            "Evaluating: 100%|██████████| 313/313 [00:02<00:00, 136.56it/s]\n"
          ]
        },
        {
          "name": "stdout",
          "output_type": "stream",
          "text": [
            "Loss: 0.8473 | Accuracy: 0.6342\n",
            "\n",
            "🔁 Trial 8: Params = (256, 128, 0.5)\n",
            "===Epoch 0===\n",
            "Training...\n"
          ]
        },
        {
          "name": "stderr",
          "output_type": "stream",
          "text": [
            "Training: 100%|██████████| 313/313 [00:06<00:00, 48.07it/s]\n"
          ]
        },
        {
          "name": "stdout",
          "output_type": "stream",
          "text": [
            "Train Loss: 1.0592 | Train Accuracy: 0.4187\n",
            "Validating...\n"
          ]
        },
        {
          "name": "stderr",
          "output_type": "stream",
          "text": [
            "Evaluating: 100%|██████████| 313/313 [00:02<00:00, 134.68it/s]\n"
          ]
        },
        {
          "name": "stdout",
          "output_type": "stream",
          "text": [
            "Loss: 1.0432 | Accuracy: 0.4988\n",
            "===Epoch 1===\n",
            "Training...\n"
          ]
        },
        {
          "name": "stderr",
          "output_type": "stream",
          "text": [
            "Training: 100%|██████████| 313/313 [00:06<00:00, 48.25it/s]\n"
          ]
        },
        {
          "name": "stdout",
          "output_type": "stream",
          "text": [
            "Train Loss: 1.0216 | Train Accuracy: 0.5064\n",
            "Validating...\n"
          ]
        },
        {
          "name": "stderr",
          "output_type": "stream",
          "text": [
            "Evaluating: 100%|██████████| 313/313 [00:02<00:00, 132.17it/s]\n"
          ]
        },
        {
          "name": "stdout",
          "output_type": "stream",
          "text": [
            "Loss: 0.9257 | Accuracy: 0.5919\n",
            "===Epoch 2===\n",
            "Training...\n"
          ]
        },
        {
          "name": "stderr",
          "output_type": "stream",
          "text": [
            "Training: 100%|██████████| 313/313 [00:06<00:00, 48.85it/s]\n"
          ]
        },
        {
          "name": "stdout",
          "output_type": "stream",
          "text": [
            "Train Loss: 0.8739 | Train Accuracy: 0.6174\n",
            "Validating...\n"
          ]
        },
        {
          "name": "stderr",
          "output_type": "stream",
          "text": [
            "Evaluating: 100%|██████████| 313/313 [00:02<00:00, 133.66it/s]\n"
          ]
        },
        {
          "name": "stdout",
          "output_type": "stream",
          "text": [
            "Loss: 0.8511 | Accuracy: 0.6338\n",
            "===Epoch 3===\n",
            "Training...\n"
          ]
        },
        {
          "name": "stderr",
          "output_type": "stream",
          "text": [
            "Training: 100%|██████████| 313/313 [00:06<00:00, 48.22it/s]\n"
          ]
        },
        {
          "name": "stdout",
          "output_type": "stream",
          "text": [
            "Train Loss: 0.8024 | Train Accuracy: 0.6565\n",
            "Validating...\n"
          ]
        },
        {
          "name": "stderr",
          "output_type": "stream",
          "text": [
            "Evaluating: 100%|██████████| 313/313 [00:02<00:00, 134.29it/s]\n"
          ]
        },
        {
          "name": "stdout",
          "output_type": "stream",
          "text": [
            "Loss: 0.8208 | Accuracy: 0.6472\n",
            "===Epoch 4===\n",
            "Training...\n"
          ]
        },
        {
          "name": "stderr",
          "output_type": "stream",
          "text": [
            "Training: 100%|██████████| 313/313 [00:06<00:00, 48.37it/s]\n"
          ]
        },
        {
          "name": "stdout",
          "output_type": "stream",
          "text": [
            "Train Loss: 0.7493 | Train Accuracy: 0.6873\n",
            "Validating...\n"
          ]
        },
        {
          "name": "stderr",
          "output_type": "stream",
          "text": [
            "Evaluating: 100%|██████████| 313/313 [00:02<00:00, 136.61it/s]"
          ]
        },
        {
          "name": "stdout",
          "output_type": "stream",
          "text": [
            "Loss: 0.8323 | Accuracy: 0.6569\n"
          ]
        },
        {
          "name": "stderr",
          "output_type": "stream",
          "text": [
            "\n"
          ]
        }
      ],
      "source": [
        "# do hyperparameter tunning here\n",
        "param_grid = {\n",
        "    'embedding_dim': [128, 256],\n",
        "    'hidden_dim': [64, 128],\n",
        "    'dropout': [0.3, 0.5],\n",
        "}\n",
        "\n",
        "# Randomly sample combinations\n",
        "combinations = list(product(*param_grid.values()))\n",
        "random.shuffle(combinations)\n",
        "combinations = combinations\n",
        "EPOCHS = 5\n",
        "\n",
        "best_val_acc = 0\n",
        "best_pair = {}\n",
        "\n",
        "for i, combo in enumerate(combinations):\n",
        "    print(f\"\\n🔁 Trial {i+1}: Params = {combo}\")\n",
        "    embedding_dim, hidden_dim, dropout = combo\n",
        "    model = LSTMClassifier(len(word2index), embedding_dim, hidden_dim, dropout, 2, 3)\n",
        "    model.to(device)\n",
        "    criterion = torch.nn.CrossEntropyLoss()\n",
        "    optimizer = torch.optim.RMSprop(model.parameters(), lr=1e-4, weight_decay=1e-3)\n",
        "\n",
        "    train_dloader = make_dataloader(dataset[\"train\"], word2index, 256, 16, device)\n",
        "    val_dloader = make_dataloader(dataset[\"val\"], word2index, 256, 16, device)\n",
        "\n",
        "    train_accs, val_accs = [], []\n",
        "    train_losses, val_losses = [], []\n",
        "\n",
        "    for epoch in range(EPOCHS):\n",
        "      print(f\"===Epoch {epoch}===\")\n",
        "      print(\"Training...\")\n",
        "      train_loss, train_acc = train(train_dloader, model, criterion, optimizer)\n",
        "      print(\"Validating...\")\n",
        "      val_loss, val_acc = test(val_dloader, model, criterion)\n",
        "\n",
        "      train_accs.append(train_acc)\n",
        "      val_accs.append(val_acc)\n",
        "\n",
        "    val_acc = np.mean(val_accs)\n",
        "    if(val_acc > best_val_acc):\n",
        "        best_val_acc = val_acc\n",
        "        best_pair = combo\n",
        "        print(f\"best pair currently is {combo}\")\n"
      ]
    },
    {
      "cell_type": "code",
      "execution_count": 25,
      "metadata": {
        "colab": {
          "base_uri": "https://localhost:8080/"
        },
        "id": "7QO7rhXFBxD0",
        "outputId": "1415f8e9-e991-469b-b1f5-e3789e9d02bb"
      },
      "outputs": [
        {
          "name": "stdout",
          "output_type": "stream",
          "text": [
            "(256, 128, 0.3)\n"
          ]
        }
      ],
      "source": [
        "print(best_pair)"
      ]
    },
    {
      "cell_type": "code",
      "execution_count": null,
      "metadata": {
        "colab": {
          "base_uri": "https://localhost:8080/"
        },
        "id": "QGdqF7gF-FKi",
        "outputId": "d9406dc7-9d58-4486-c604-d41b654bbd4d"
      },
      "outputs": [
        {
          "name": "stdout",
          "output_type": "stream",
          "text": [
            "===Epoch 0===\n",
            "Training...\n"
          ]
        },
        {
          "name": "stderr",
          "output_type": "stream",
          "text": [
            "Training: 100%|██████████| 2500/2500 [00:52<00:00, 47.53it/s]\n"
          ]
        },
        {
          "name": "stdout",
          "output_type": "stream",
          "text": [
            "Train Loss: 0.8643 | Train Accuracy: 0.6098\n",
            "Validating...\n"
          ]
        },
        {
          "name": "stderr",
          "output_type": "stream",
          "text": [
            "Evaluating: 100%|██████████| 313/313 [00:02<00:00, 134.85it/s]\n"
          ]
        },
        {
          "name": "stdout",
          "output_type": "stream",
          "text": [
            "Loss: 0.7532 | Accuracy: 0.6747\n",
            "Testing...\n"
          ]
        },
        {
          "name": "stderr",
          "output_type": "stream",
          "text": [
            "Evaluating: 100%|██████████| 313/313 [00:02<00:00, 136.82it/s]\n"
          ]
        },
        {
          "name": "stdout",
          "output_type": "stream",
          "text": [
            "Loss: 0.7474 | Accuracy: 0.6815\n",
            "Epoch duration: 57.21 seconds\n",
            "===Epoch 1===\n",
            "Training...\n"
          ]
        },
        {
          "name": "stderr",
          "output_type": "stream",
          "text": [
            "Training: 100%|██████████| 2500/2500 [00:51<00:00, 48.18it/s]\n"
          ]
        },
        {
          "name": "stdout",
          "output_type": "stream",
          "text": [
            "Train Loss: 0.7290 | Train Accuracy: 0.6900\n",
            "Validating...\n"
          ]
        },
        {
          "name": "stderr",
          "output_type": "stream",
          "text": [
            "Evaluating: 100%|██████████| 313/313 [00:02<00:00, 136.63it/s]\n"
          ]
        },
        {
          "name": "stdout",
          "output_type": "stream",
          "text": [
            "Loss: 0.7135 | Accuracy: 0.6979\n",
            "Testing...\n"
          ]
        },
        {
          "name": "stderr",
          "output_type": "stream",
          "text": [
            "Evaluating: 100%|██████████| 313/313 [00:02<00:00, 131.81it/s]\n"
          ]
        },
        {
          "name": "stdout",
          "output_type": "stream",
          "text": [
            "Loss: 0.7059 | Accuracy: 0.6967\n",
            "Epoch duration: 56.56 seconds\n",
            "===Epoch 2===\n",
            "Training...\n"
          ]
        },
        {
          "name": "stderr",
          "output_type": "stream",
          "text": [
            "Training: 100%|██████████| 2500/2500 [00:51<00:00, 48.17it/s]\n"
          ]
        },
        {
          "name": "stdout",
          "output_type": "stream",
          "text": [
            "Train Loss: 0.6925 | Train Accuracy: 0.7071\n",
            "Validating...\n"
          ]
        },
        {
          "name": "stderr",
          "output_type": "stream",
          "text": [
            "Evaluating: 100%|██████████| 313/313 [00:02<00:00, 136.59it/s]\n"
          ]
        },
        {
          "name": "stdout",
          "output_type": "stream",
          "text": [
            "Loss: 0.6935 | Accuracy: 0.7019\n",
            "Testing...\n"
          ]
        },
        {
          "name": "stderr",
          "output_type": "stream",
          "text": [
            "Evaluating: 100%|██████████| 313/313 [00:02<00:00, 133.61it/s]\n"
          ]
        },
        {
          "name": "stdout",
          "output_type": "stream",
          "text": [
            "Loss: 0.6894 | Accuracy: 0.7067\n",
            "Epoch duration: 56.55 seconds\n",
            "===Epoch 3===\n",
            "Training...\n"
          ]
        },
        {
          "name": "stderr",
          "output_type": "stream",
          "text": [
            "Training: 100%|██████████| 2500/2500 [00:51<00:00, 48.38it/s]\n"
          ]
        },
        {
          "name": "stdout",
          "output_type": "stream",
          "text": [
            "Train Loss: 0.6767 | Train Accuracy: 0.7125\n",
            "Validating...\n"
          ]
        },
        {
          "name": "stderr",
          "output_type": "stream",
          "text": [
            "Evaluating: 100%|██████████| 313/313 [00:02<00:00, 139.87it/s]\n"
          ]
        },
        {
          "name": "stdout",
          "output_type": "stream",
          "text": [
            "Loss: 0.6817 | Accuracy: 0.7115\n",
            "Testing...\n"
          ]
        },
        {
          "name": "stderr",
          "output_type": "stream",
          "text": [
            "Evaluating: 100%|██████████| 313/313 [00:02<00:00, 140.09it/s]\n"
          ]
        },
        {
          "name": "stdout",
          "output_type": "stream",
          "text": [
            "Loss: 0.6809 | Accuracy: 0.7125\n",
            "Epoch duration: 56.16 seconds\n",
            "===Epoch 4===\n",
            "Training...\n"
          ]
        },
        {
          "name": "stderr",
          "output_type": "stream",
          "text": [
            "Training: 100%|██████████| 2500/2500 [00:51<00:00, 48.80it/s]\n"
          ]
        },
        {
          "name": "stdout",
          "output_type": "stream",
          "text": [
            "Train Loss: 0.6679 | Train Accuracy: 0.7158\n",
            "Validating...\n"
          ]
        },
        {
          "name": "stderr",
          "output_type": "stream",
          "text": [
            "Evaluating: 100%|██████████| 313/313 [00:02<00:00, 137.68it/s]\n"
          ]
        },
        {
          "name": "stdout",
          "output_type": "stream",
          "text": [
            "Loss: 0.6796 | Accuracy: 0.7095\n",
            "Testing...\n"
          ]
        },
        {
          "name": "stderr",
          "output_type": "stream",
          "text": [
            "Evaluating: 100%|██████████| 313/313 [00:02<00:00, 135.33it/s]\n"
          ]
        },
        {
          "name": "stdout",
          "output_type": "stream",
          "text": [
            "Loss: 0.6690 | Accuracy: 0.7167\n",
            "Epoch duration: 55.82 seconds\n",
            "===Epoch 5===\n",
            "Training...\n"
          ]
        },
        {
          "name": "stderr",
          "output_type": "stream",
          "text": [
            "Training: 100%|██████████| 2500/2500 [00:51<00:00, 48.71it/s]\n"
          ]
        },
        {
          "name": "stdout",
          "output_type": "stream",
          "text": [
            "Train Loss: 0.6606 | Train Accuracy: 0.7192\n",
            "Validating...\n"
          ]
        },
        {
          "name": "stderr",
          "output_type": "stream",
          "text": [
            "Evaluating: 100%|██████████| 313/313 [00:02<00:00, 138.68it/s]\n"
          ]
        },
        {
          "name": "stdout",
          "output_type": "stream",
          "text": [
            "Loss: 0.6639 | Accuracy: 0.7187\n",
            "Testing...\n"
          ]
        },
        {
          "name": "stderr",
          "output_type": "stream",
          "text": [
            "Evaluating: 100%|██████████| 313/313 [00:02<00:00, 140.00it/s]\n"
          ]
        },
        {
          "name": "stdout",
          "output_type": "stream",
          "text": [
            "Loss: 0.6557 | Accuracy: 0.7194\n",
            "Epoch duration: 55.83 seconds\n",
            "===Epoch 6===\n",
            "Training...\n"
          ]
        },
        {
          "name": "stderr",
          "output_type": "stream",
          "text": [
            "Training: 100%|██████████| 2500/2500 [00:51<00:00, 48.98it/s]\n"
          ]
        },
        {
          "name": "stdout",
          "output_type": "stream",
          "text": [
            "Train Loss: 0.6427 | Train Accuracy: 0.7275\n",
            "Validating...\n"
          ]
        },
        {
          "name": "stderr",
          "output_type": "stream",
          "text": [
            "Evaluating: 100%|██████████| 313/313 [00:02<00:00, 135.82it/s]\n"
          ]
        },
        {
          "name": "stdout",
          "output_type": "stream",
          "text": [
            "Loss: 0.6530 | Accuracy: 0.7137\n",
            "Testing...\n"
          ]
        },
        {
          "name": "stderr",
          "output_type": "stream",
          "text": [
            "Evaluating: 100%|██████████| 313/313 [00:02<00:00, 138.84it/s]\n"
          ]
        },
        {
          "name": "stdout",
          "output_type": "stream",
          "text": [
            "Loss: 0.6476 | Accuracy: 0.7290\n",
            "Epoch duration: 55.61 seconds\n",
            "===Epoch 7===\n",
            "Training...\n"
          ]
        },
        {
          "name": "stderr",
          "output_type": "stream",
          "text": [
            "Training: 100%|██████████| 2500/2500 [00:51<00:00, 48.62it/s]\n"
          ]
        },
        {
          "name": "stdout",
          "output_type": "stream",
          "text": [
            "Train Loss: 0.6213 | Train Accuracy: 0.7354\n",
            "Validating...\n"
          ]
        },
        {
          "name": "stderr",
          "output_type": "stream",
          "text": [
            "Evaluating: 100%|██████████| 313/313 [00:02<00:00, 137.23it/s]\n"
          ]
        },
        {
          "name": "stdout",
          "output_type": "stream",
          "text": [
            "Loss: 0.6318 | Accuracy: 0.7330\n",
            "Testing...\n"
          ]
        },
        {
          "name": "stderr",
          "output_type": "stream",
          "text": [
            "Evaluating: 100%|██████████| 313/313 [00:02<00:00, 134.34it/s]\n"
          ]
        },
        {
          "name": "stdout",
          "output_type": "stream",
          "text": [
            "Loss: 0.6212 | Accuracy: 0.7314\n",
            "Epoch duration: 56.04 seconds\n",
            "===Epoch 8===\n",
            "Training...\n"
          ]
        },
        {
          "name": "stderr",
          "output_type": "stream",
          "text": [
            "Training: 100%|██████████| 2500/2500 [00:51<00:00, 48.55it/s]\n"
          ]
        },
        {
          "name": "stdout",
          "output_type": "stream",
          "text": [
            "Train Loss: 0.6050 | Train Accuracy: 0.7441\n",
            "Validating...\n"
          ]
        },
        {
          "name": "stderr",
          "output_type": "stream",
          "text": [
            "Evaluating: 100%|██████████| 313/313 [00:02<00:00, 138.33it/s]\n"
          ]
        },
        {
          "name": "stdout",
          "output_type": "stream",
          "text": [
            "Loss: 0.6163 | Accuracy: 0.7386\n",
            "Testing...\n"
          ]
        },
        {
          "name": "stderr",
          "output_type": "stream",
          "text": [
            "Evaluating: 100%|██████████| 313/313 [00:02<00:00, 138.19it/s]\n"
          ]
        },
        {
          "name": "stdout",
          "output_type": "stream",
          "text": [
            "Loss: 0.6086 | Accuracy: 0.7454\n",
            "Epoch duration: 56.03 seconds\n",
            "===Epoch 9===\n",
            "Training...\n"
          ]
        },
        {
          "name": "stderr",
          "output_type": "stream",
          "text": [
            "Training: 100%|██████████| 2500/2500 [00:51<00:00, 48.97it/s]\n"
          ]
        },
        {
          "name": "stdout",
          "output_type": "stream",
          "text": [
            "Train Loss: 0.5930 | Train Accuracy: 0.7523\n",
            "Validating...\n"
          ]
        },
        {
          "name": "stderr",
          "output_type": "stream",
          "text": [
            "Evaluating: 100%|██████████| 313/313 [00:02<00:00, 133.58it/s]\n"
          ]
        },
        {
          "name": "stdout",
          "output_type": "stream",
          "text": [
            "Loss: 0.6051 | Accuracy: 0.7428\n",
            "Testing...\n"
          ]
        },
        {
          "name": "stderr",
          "output_type": "stream",
          "text": [
            "Evaluating: 100%|██████████| 313/313 [00:02<00:00, 136.24it/s]"
          ]
        },
        {
          "name": "stdout",
          "output_type": "stream",
          "text": [
            "Loss: 0.5991 | Accuracy: 0.7456\n",
            "Epoch duration: 55.70 seconds\n"
          ]
        },
        {
          "name": "stderr",
          "output_type": "stream",
          "text": [
            "\n"
          ]
        }
      ],
      "source": [
        "# training loop with updated hyperparameters\n",
        "train_dloader = make_dataloader(dataset[\"train\"], word2index, 256, 16, device)\n",
        "val_dloader = make_dataloader(dataset[\"val\"], word2index, 256, 16, device)\n",
        "test_dloader = make_dataloader(dataset[\"test\"], word2index, 256, 16, device)\n",
        "\n",
        "model = LSTMClassifier(len(word2index), 256, 128, 0.3, 2, 3)\n",
        "model.to(device)\n",
        "criterion = torch.nn.CrossEntropyLoss()\n",
        "optimizer = torch.optim.RMSprop(model.parameters(), lr=1e-4, weight_decay=1e-3)\n",
        "EPOCHS = 10\n",
        "\n",
        "# Store metrics\n",
        "train_accs, val_accs, test_accs = [], [], []\n",
        "train_losses, val_losses, test_losses = [], [], []\n",
        "epoch_times = []\n",
        "\n",
        "best_test_acc = 0\n",
        "patience = 2\n",
        "patience_counter = 0\n",
        "\n",
        "for epoch in range(EPOCHS):\n",
        "    print(f\"===Epoch {epoch}===\")\n",
        "    epoch_start_time = time.time()\n",
        "    print(\"Training...\")\n",
        "    train_loss, train_acc = train(train_dloader, model, criterion, optimizer)\n",
        "    print(\"Validating...\")\n",
        "    val_loss, val_acc = test(val_dloader, model, criterion)\n",
        "    print(\"Testing...\")\n",
        "    test_loss, test_acc = test(test_dloader, model, criterion)\n",
        "\n",
        "    # Store accuracies for plotting\n",
        "    train_accs.append(train_acc)\n",
        "    val_accs.append(val_acc)\n",
        "    test_accs.append(test_acc)\n",
        "\n",
        "    # Store losses for plotting\n",
        "    train_losses.append(train_loss)\n",
        "    val_losses.append(val_loss)\n",
        "    test_losses.append(test_loss)\n",
        "\n",
        "    epoch_end_time = time.time()\n",
        "    epoch_duration = epoch_end_time - epoch_start_time\n",
        "    print(f\"Epoch duration: {epoch_duration:.2f} seconds\")\n",
        "    epoch_times.append(epoch_duration)\n",
        "\n",
        "    if test_acc > best_test_acc:\n",
        "        best_test_acc = test_acc\n",
        "        patience_counter = 0\n",
        "        #  save the best model\n",
        "        save_cp(model)\n",
        "    else:\n",
        "        patience_counter += 1\n",
        "        if patience_counter >= patience:\n",
        "            print(\"Early stopping triggered.\")\n",
        "            break"
      ]
    },
    {
      "cell_type": "markdown",
      "metadata": {
        "id": "SM8RQGtAhoam"
      },
      "source": [
        "### Plot training vs validation Accuracy"
      ]
    },
    {
      "cell_type": "code",
      "execution_count": 19,
      "metadata": {
        "colab": {
          "base_uri": "https://localhost:8080/",
          "height": 382
        },
        "id": "9yiKTyFh93lH",
        "outputId": "186dd8f0-6486-455f-e1f2-53193959d3c4"
      },
      "outputs": [
        {
          "data": {
            "image/png": "[encoded data removed]",
            "text/plain": [
              "<Figure size 1000x500 with 1 Axes>"
            ]
          },
          "metadata": {},
          "output_type": "display_data"
        }
      ],
      "source": [
        "# Plot training and validation accuracy\n",
        "train_accs = [i * 100 for i in train_accs]\n",
        "val_accs = [i * 100 for i in val_accs]\n",
        "plt.figure(figsize=(10, 5))\n",
        "plt.plot(range(1, EPOCHS + 1), train_accs, label=\"Train Accuracy\")\n",
        "plt.plot(range(1, EPOCHS + 1), val_accs, label=\"Validation Accuracy\")\n",
        "plt.xlabel(\"Epochs\")\n",
        "plt.ylabel(\"Accuracy\")\n",
        "plt.title(\"Training, and Validation Accuracy\")\n",
        "plt.legend()\n",
        "plt.show()"
      ]
    },
    {
      "cell_type": "markdown",
      "metadata": {
        "id": "TJPKEA9lht2h"
      },
      "source": [
        "### Plot training vs validation losses"
      ]
    },
    {
      "cell_type": "code",
      "execution_count": 20,
      "metadata": {
        "colab": {
          "base_uri": "https://localhost:8080/",
          "height": 376
        },
        "id": "Hkd8TXDj935D",
        "outputId": "f9138898-fe78-471d-fa29-69dd018aed61"
      },
      "outputs": [
        {
          "data": {
            "image/png": "[encoded data removed]",
            "text/plain": [
              "<Figure size 1000x500 with 1 Axes>"
            ]
          },
          "metadata": {},
          "output_type": "display_data"
        }
      ],
      "source": [
        "# Plot training and validation loss\n",
        "plt.figure(figsize=(10, 5))\n",
        "plt.plot(range(1, EPOCHS + 1), train_losses, label=\"Train Loss\")\n",
        "plt.plot(range(1, EPOCHS + 1), val_losses, label=\"Validation Loss\")\n",
        "plt.xlabel(\"Epochs\")\n",
        "plt.ylabel(\"Loss\")\n",
        "plt.title(\"Training, and Validation Loss\")\n",
        "plt.legend()\n",
        "plt.show()"
      ]
    },
    {
      "cell_type": "markdown",
      "metadata": {
        "id": "ciuE10jShwx8"
      },
      "source": [
        "### Plot Test Accuracy vs Epoch"
      ]
    },
    {
      "cell_type": "code",
      "execution_count": 22,
      "metadata": {
        "colab": {
          "base_uri": "https://localhost:8080/",
          "height": 374
        },
        "id": "FIrqTQR-iADl",
        "outputId": "0754c5c3-8aa2-4d6d-cfe9-aed1a5662c13"
      },
      "outputs": [
        {
          "data": {
            "image/png": "[encoded data removed]",
            "text/plain": [
              "<Figure size 1000x500 with 1 Axes>"
            ]
          },
          "metadata": {},
          "output_type": "display_data"
        }
      ],
      "source": [
        "# Plot test accuracy vs epoch\n",
        "# test_accs = [i * 100 for i in test_accs]\n",
        "EPOCHS = 10\n",
        "plt.figure(figsize=(10, 5))\n",
        "plt.plot(range(1, EPOCHS + 1), test_accs, label=\"Test Accuracy\")\n",
        "plt.xlabel(\"Epochs\")\n",
        "plt.ylabel(\"Accuracy\")\n",
        "plt.title(\"Test Accuracy vs Epoch\")\n",
        "plt.legend()\n",
        "plt.show()"
      ]
    },
    {
      "cell_type": "markdown",
      "metadata": {
        "id": "-u8vPyRnajVn"
      },
      "source": [
        "### Plot Test Loss vs Epoch"
      ]
    },
    {
      "cell_type": "code",
      "execution_count": 23,
      "metadata": {
        "colab": {
          "base_uri": "https://localhost:8080/",
          "height": 376
        },
        "id": "pVJR9IqhajBf",
        "outputId": "e3b3d412-8335-41ec-d415-177e5143a868"
      },
      "outputs": [
        {
          "data": {
            "image/png": "[encoded data removed]",
            "text/plain": [
              "<Figure size 1000x500 with 1 Axes>"
            ]
          },
          "metadata": {},
          "output_type": "display_data"
        }
      ],
      "source": [
        "# Plot test loss vs epoch\n",
        "plt.figure(figsize=(10, 5))\n",
        "plt.plot(range(1, EPOCHS + 1), test_losses, label=\"Train Loss\")\n",
        "plt.xlabel(\"Epochs\")\n",
        "plt.ylabel(\"Loss\")\n",
        "plt.title(\"Test Loss vs Epoch\")\n",
        "plt.legend()\n",
        "plt.show()"
      ]
    },
    {
      "cell_type": "markdown",
      "metadata": {
        "id": "jCJvAp8ah6-t"
      },
      "source": [
        "### Save results in a dataframe"
      ]
    },
    {
      "cell_type": "code",
      "execution_count": 24,
      "metadata": {
        "id": "hE_Ylgp9g0mZ"
      },
      "outputs": [],
      "source": [
        "data = {\n",
        "    'Train Accuracy': train_accs,\n",
        "    'Validation Accuracy': val_accs,\n",
        "    'Test Accuracy': test_accs,\n",
        "    'Train Loss': train_losses,\n",
        "    'Validation Loss': val_losses,\n",
        "    'Test Loss': test_losses,\n",
        "    'Epoch Time': epoch_times\n",
        "}\n",
        "\n",
        "df = pd.DataFrame(data)\n",
        "\n",
        "df.to_csv(\"lstm_results.csv\")"
      ]
    }
  ],
  "metadata": {
    "accelerator": "GPU",
    "colab": {
      "gpuType": "T4",
      "machine_shape": "hm",
      "provenance": []
    },
    "kernelspec": {
      "display_name": "py-torch-tf-env",
      "language": "python",
      "name": "python3"
    },
    "language_info": {
      "codemirror_mode": {
        "name": "ipython",
        "version": 3
      },
      "file_extension": ".py",
      "mimetype": "text/x-python",
      "name": "python",
      "nbconvert_exporter": "python",
      "pygments_lexer": "ipython3",
      "version": "3.12.7"
    }
  },
  "nbformat": 4,
  "nbformat_minor": 0
}
